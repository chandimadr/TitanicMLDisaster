{
 "cells": [
  {
   "cell_type": "code",
   "execution_count": null,
   "id": "73857211",
   "metadata": {},
   "outputs": [],
   "source": [
    "import pandas as pd\n",
    "import tensorflow as tf\n",
    "import numpy as np\n",
    "import os  "
   ]
  },
  {
   "cell_type": "code",
   "execution_count": null,
   "id": "cffda45d",
   "metadata": {},
   "outputs": [],
   "source": [
    "titanic_df = pd.read_csv(\"./data/train.csv\")\n",
    "titanic_df.head(10)"
   ]
  },
  {
   "cell_type": "code",
   "execution_count": null,
   "id": "d26cc28c",
   "metadata": {},
   "outputs": [],
   "source": [
    "titanic_df[\"sex_enc\"] = np.where(titanic_df[\"Sex\"]==\"male\", 1, 0)"
   ]
  },
  {
   "cell_type": "code",
   "execution_count": null,
   "id": "16d1ef62",
   "metadata": {},
   "outputs": [],
   "source": [
    "mean_age = titanic_df[\"Age\"].mean()\n",
    "titanic_df[\"new_age\"] = titanic_df[\"Age\"].fillna(mean_age)"
   ]
  },
  {
   "cell_type": "code",
   "execution_count": null,
   "id": "31deaa36",
   "metadata": {},
   "outputs": [],
   "source": [
    "# age_bins = [0, 20, 40, 60, 80, 100]\n",
    "# age_lbl = [20, 40, 60, 80, 100]\n",
    "# titanic_df['age_bin'] = pd.cut(titanic_df['new_age'], bins= age_bins, labels=age_lbl)\n",
    "# titanic_df = pd.get_dummies(titanic_df, columns=[\"age_bin\"])"
   ]
  },
  {
   "cell_type": "code",
   "execution_count": null,
   "id": "5524386b",
   "metadata": {},
   "outputs": [],
   "source": [
    "titanic_df[\"age_norm\"] = (titanic_df[\"new_age\"] - titanic_df[\"new_age\"].mean())/titanic_df[\"new_age\"].std()\n",
    "titanic_df[\"sibsp_norm\"]=(titanic_df[\"SibSp\"] - titanic_df[\"SibSp\"].min())/(titanic_df[\"SibSp\"].max() - titanic_df[\"SibSp\"].min())\n",
    "titanic_df[\"parch_norm\"]=(titanic_df[\"Parch\"] - titanic_df[\"Parch\"].min())/(titanic_df[\"Parch\"].max() - titanic_df[\"Parch\"].min())"
   ]
  },
  {
   "cell_type": "code",
   "execution_count": null,
   "id": "a13daf47",
   "metadata": {},
   "outputs": [],
   "source": [
    "titanic_df = pd.get_dummies(titanic_df, columns=[\"Embarked\"])\n",
    "titanic_df[\"Pclass\"].value_counts()"
   ]
  },
  {
   "cell_type": "code",
   "execution_count": null,
   "id": "3d46b674",
   "metadata": {},
   "outputs": [],
   "source": [
    "titanic_df = pd.get_dummies(titanic_df, columns=[\"Pclass\"])"
   ]
  },
  {
   "cell_type": "code",
   "execution_count": null,
   "id": "4077b836",
   "metadata": {},
   "outputs": [],
   "source": [
    "train, val, test = np.split(titanic_df.sample(frac=1), [int(0.8*len(titanic_df)), int(0.9*len(titanic_df))])\n",
    "print(\"# training samples: \" + str(train.shape))\n",
    "print(\"# validation samples: \" + str(val.shape))\n",
    "print(\"# testing samples: \" + str(test.shape))\n",
    "# feature_list = [\"sex_enc\", \"Parch\", \"SibSp\", \"Embarked_C\", \"Embarked_Q\", \"Embarked_S\"\n",
    "#                 , \"Pclass_1\", \"Pclass_2\", \"Pclass_3\", \"age_bin_20\", \"age_bin_40\", \"age_bin_60\", \"age_bin_80\", \"age_bin_100\"]\n",
    "feature_list = [\"sex_enc\", \"parch_norm\", \"sibsp_norm\", \"Embarked_C\", \"Embarked_Q\", \"Embarked_S\"\n",
    "                , \"Pclass_1\", \"Pclass_2\", \"Pclass_3\", \"age_norm\"]"
   ]
  },
  {
   "cell_type": "code",
   "execution_count": null,
   "id": "14a6a45e",
   "metadata": {},
   "outputs": [],
   "source": [
    "def df_to_dataset(dataframe, shuffle=True, batch_size=32):\n",
    "  dataframe = dataframe.copy()\n",
    "  labels = dataframe.pop('Survived')\n",
    "  ds = tf.data.Dataset.from_tensor_slices((dataframe[feature_list], labels))\n",
    "  if shuffle:\n",
    "    ds = ds.shuffle(buffer_size=len(dataframe))\n",
    "  ds = ds.batch(batch_size)\n",
    "  return ds"
   ]
  },
  {
   "cell_type": "code",
   "execution_count": null,
   "id": "7c68e5e6",
   "metadata": {},
   "outputs": [],
   "source": [
    "batch_size = 10\n",
    "train_ds = df_to_dataset(train, shuffle=False, batch_size=batch_size)\n",
    "val_ds = df_to_dataset(val, shuffle=False, batch_size=batch_size)\n",
    "test_ds = df_to_dataset(test, shuffle=False, batch_size=batch_size)"
   ]
  },
  {
   "cell_type": "code",
   "execution_count": null,
   "id": "9d90a972",
   "metadata": {},
   "outputs": [],
   "source": [
    "input_shape = (len(feature_list),)\n",
    "inputs = tf.keras.layers.Input(shape=input_shape)\n",
    "x = tf.keras.layers.Dense(32, activation=\"relu\")(inputs)\n",
    "x = tf.keras.layers.Dropout(0.5)(x)\n",
    "output = tf.keras.layers.Dense(1, activation=\"sigmoid\")(x)\n",
    "\n",
    "model = tf.keras.Model(inputs, output)\n",
    "model.compile(optimizer='adam', loss=tf.keras.losses.BinaryCrossentropy(), metrics=[\"accuracy\"])\n",
    "model.fit(train_ds, epochs=50, validation_data=val_ds)"
   ]
  },
  {
   "cell_type": "code",
   "execution_count": null,
   "id": "41fef88c",
   "metadata": {},
   "outputs": [],
   "source": [
    "loss, accuracy = model.evaluate(test_ds)\n",
    "\n",
    "print(\"Loss: \", loss)\n",
    "print(\"Accuracy: \", accuracy)"
   ]
  },
  {
   "cell_type": "code",
   "execution_count": null,
   "id": "0a45f9c5",
   "metadata": {},
   "outputs": [],
   "source": [
    "test_data = pd.read_csv(\"./data/test.csv\")\n",
    "pred_in = test_data.copy()\n",
    "pred_in[\"sex_enc\"] = np.where(pred_in[\"Sex\"]==\"male\", 1, 0)\n",
    "pred_in[\"new_age\"] = pred_in[\"Age\"].fillna(mean_age)\n",
    "pred_in = pd.get_dummies(pred_in, columns=[\"Embarked\"])\n",
    "pred_in = pd.get_dummies(pred_in, columns=[\"Pclass\"])\n",
    "# pred_in['age_bin'] = pd.cut(pred_in['new_age'], bins= age_bins, labels=age_lbl)\n",
    "# pred_in = pd.get_dummies(pred_in, columns=[\"age_bin\"])\n",
    "pred_in[\"age_norm\"] = (pred_in[\"new_age\"] - titanic_df[\"new_age\"].mean())/titanic_df[\"new_age\"].std()\n",
    "pred_in[\"sibsp_norm\"]=(pred_in[\"SibSp\"] - titanic_df[\"SibSp\"].min())/(titanic_df[\"SibSp\"].max() - titanic_df[\"SibSp\"].min())\n",
    "pred_in[\"parch_norm\"]=(pred_in[\"Parch\"] - titanic_df[\"Parch\"].min())/(titanic_df[\"Parch\"].max() - titanic_df[\"Parch\"].min())"
   ]
  },
  {
   "cell_type": "code",
   "execution_count": null,
   "id": "962ba9ab",
   "metadata": {},
   "outputs": [],
   "source": [
    "pred_ds = tf.data.Dataset.from_tensor_slices(pred_in[feature_list])\n",
    "pred_ds = pred_ds.batch(batch_size)"
   ]
  },
  {
   "cell_type": "code",
   "execution_count": null,
   "id": "4397a342",
   "metadata": {},
   "outputs": [],
   "source": [
    "predictions = model.predict(pred_ds)\n",
    "pred_pd = pd.DataFrame(predictions, columns=[\"pred_survived\"])"
   ]
  },
  {
   "cell_type": "code",
   "execution_count": null,
   "id": "4a235bd7",
   "metadata": {},
   "outputs": [],
   "source": [
    "pred_pd[\"Survived\"] = np.where(pred_pd[\"pred_survived\"]>0.5, 1, 0)"
   ]
  },
  {
   "cell_type": "code",
   "execution_count": null,
   "id": "fbd736ad",
   "metadata": {},
   "outputs": [],
   "source": [
    "out = pd.merge(pred_in, pred_pd, left_index=True, right_index=True)"
   ]
  },
  {
   "cell_type": "code",
   "execution_count": null,
   "id": "1fe2c83e",
   "metadata": {},
   "outputs": [],
   "source": [
    "out_pd = out[[\"PassengerId\",\"Survived\"]]"
   ]
  },
  {
   "cell_type": "code",
   "execution_count": null,
   "id": "ef65e402",
   "metadata": {},
   "outputs": [],
   "source": [
    "os.makedirs('./data/', exist_ok=True)  \n",
    "out_pd.to_csv('./data/out.csv',index=False) "
   ]
  },
  {
   "cell_type": "code",
   "execution_count": null,
   "id": "b520c448",
   "metadata": {},
   "outputs": [],
   "source": []
  }
 ],
 "metadata": {
  "kernelspec": {
   "display_name": "Python 3 (ipykernel)",
   "language": "python",
   "name": "python3"
  },
  "language_info": {
   "codemirror_mode": {
    "name": "ipython",
    "version": 3
   },
   "file_extension": ".py",
   "mimetype": "text/x-python",
   "name": "python",
   "nbconvert_exporter": "python",
   "pygments_lexer": "ipython3",
   "version": "3.7.11"
  }
 },
 "nbformat": 4,
 "nbformat_minor": 5
}
