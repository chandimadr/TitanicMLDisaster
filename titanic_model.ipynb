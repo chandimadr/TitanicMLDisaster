{
 "cells": [
  {
   "cell_type": "code",
   "execution_count": 151,
   "id": "73857211",
   "metadata": {},
   "outputs": [],
   "source": [
    "import pandas as pd\n",
    "import tensorflow as tf\n",
    "import numpy as np\n",
    "import os  "
   ]
  },
  {
   "cell_type": "code",
   "execution_count": 152,
   "id": "cffda45d",
   "metadata": {},
   "outputs": [
    {
     "data": {
      "text/html": [
       "<div>\n",
       "<style scoped>\n",
       "    .dataframe tbody tr th:only-of-type {\n",
       "        vertical-align: middle;\n",
       "    }\n",
       "\n",
       "    .dataframe tbody tr th {\n",
       "        vertical-align: top;\n",
       "    }\n",
       "\n",
       "    .dataframe thead th {\n",
       "        text-align: right;\n",
       "    }\n",
       "</style>\n",
       "<table border=\"1\" class=\"dataframe\">\n",
       "  <thead>\n",
       "    <tr style=\"text-align: right;\">\n",
       "      <th></th>\n",
       "      <th>PassengerId</th>\n",
       "      <th>Survived</th>\n",
       "      <th>Pclass</th>\n",
       "      <th>Age</th>\n",
       "      <th>SibSp</th>\n",
       "      <th>Parch</th>\n",
       "      <th>Fare</th>\n",
       "    </tr>\n",
       "  </thead>\n",
       "  <tbody>\n",
       "    <tr>\n",
       "      <th>count</th>\n",
       "      <td>891.000000</td>\n",
       "      <td>891.000000</td>\n",
       "      <td>891.000000</td>\n",
       "      <td>714.000000</td>\n",
       "      <td>891.000000</td>\n",
       "      <td>891.000000</td>\n",
       "      <td>891.000000</td>\n",
       "    </tr>\n",
       "    <tr>\n",
       "      <th>mean</th>\n",
       "      <td>446.000000</td>\n",
       "      <td>0.383838</td>\n",
       "      <td>2.308642</td>\n",
       "      <td>29.699118</td>\n",
       "      <td>0.523008</td>\n",
       "      <td>0.381594</td>\n",
       "      <td>32.204208</td>\n",
       "    </tr>\n",
       "    <tr>\n",
       "      <th>std</th>\n",
       "      <td>257.353842</td>\n",
       "      <td>0.486592</td>\n",
       "      <td>0.836071</td>\n",
       "      <td>14.526497</td>\n",
       "      <td>1.102743</td>\n",
       "      <td>0.806057</td>\n",
       "      <td>49.693429</td>\n",
       "    </tr>\n",
       "    <tr>\n",
       "      <th>min</th>\n",
       "      <td>1.000000</td>\n",
       "      <td>0.000000</td>\n",
       "      <td>1.000000</td>\n",
       "      <td>0.420000</td>\n",
       "      <td>0.000000</td>\n",
       "      <td>0.000000</td>\n",
       "      <td>0.000000</td>\n",
       "    </tr>\n",
       "    <tr>\n",
       "      <th>25%</th>\n",
       "      <td>223.500000</td>\n",
       "      <td>0.000000</td>\n",
       "      <td>2.000000</td>\n",
       "      <td>20.125000</td>\n",
       "      <td>0.000000</td>\n",
       "      <td>0.000000</td>\n",
       "      <td>7.910400</td>\n",
       "    </tr>\n",
       "    <tr>\n",
       "      <th>50%</th>\n",
       "      <td>446.000000</td>\n",
       "      <td>0.000000</td>\n",
       "      <td>3.000000</td>\n",
       "      <td>28.000000</td>\n",
       "      <td>0.000000</td>\n",
       "      <td>0.000000</td>\n",
       "      <td>14.454200</td>\n",
       "    </tr>\n",
       "    <tr>\n",
       "      <th>75%</th>\n",
       "      <td>668.500000</td>\n",
       "      <td>1.000000</td>\n",
       "      <td>3.000000</td>\n",
       "      <td>38.000000</td>\n",
       "      <td>1.000000</td>\n",
       "      <td>0.000000</td>\n",
       "      <td>31.000000</td>\n",
       "    </tr>\n",
       "    <tr>\n",
       "      <th>max</th>\n",
       "      <td>891.000000</td>\n",
       "      <td>1.000000</td>\n",
       "      <td>3.000000</td>\n",
       "      <td>80.000000</td>\n",
       "      <td>8.000000</td>\n",
       "      <td>6.000000</td>\n",
       "      <td>512.329200</td>\n",
       "    </tr>\n",
       "  </tbody>\n",
       "</table>\n",
       "</div>"
      ],
      "text/plain": [
       "       PassengerId    Survived      Pclass         Age       SibSp  \\\n",
       "count   891.000000  891.000000  891.000000  714.000000  891.000000   \n",
       "mean    446.000000    0.383838    2.308642   29.699118    0.523008   \n",
       "std     257.353842    0.486592    0.836071   14.526497    1.102743   \n",
       "min       1.000000    0.000000    1.000000    0.420000    0.000000   \n",
       "25%     223.500000    0.000000    2.000000   20.125000    0.000000   \n",
       "50%     446.000000    0.000000    3.000000   28.000000    0.000000   \n",
       "75%     668.500000    1.000000    3.000000   38.000000    1.000000   \n",
       "max     891.000000    1.000000    3.000000   80.000000    8.000000   \n",
       "\n",
       "            Parch        Fare  \n",
       "count  891.000000  891.000000  \n",
       "mean     0.381594   32.204208  \n",
       "std      0.806057   49.693429  \n",
       "min      0.000000    0.000000  \n",
       "25%      0.000000    7.910400  \n",
       "50%      0.000000   14.454200  \n",
       "75%      0.000000   31.000000  \n",
       "max      6.000000  512.329200  "
      ]
     },
     "execution_count": 152,
     "metadata": {},
     "output_type": "execute_result"
    }
   ],
   "source": [
    "titanic_df = pd.read_csv(\"./data/train.csv\")\n",
    "titanic_df.describe()"
   ]
  },
  {
   "cell_type": "code",
   "execution_count": 153,
   "id": "d26cc28c",
   "metadata": {},
   "outputs": [],
   "source": [
    "titanic_df[\"sex_enc\"] = np.where(titanic_df[\"Sex\"]==\"male\", 1, 0)"
   ]
  },
  {
   "cell_type": "code",
   "execution_count": 154,
   "id": "16d1ef62",
   "metadata": {},
   "outputs": [],
   "source": [
    "mean_age = titanic_df[\"Age\"].mean()\n",
    "titanic_df[\"new_age\"]= titanic_df[\"Age\"].fillna(mean_age)"
   ]
  },
  {
   "cell_type": "code",
   "execution_count": 155,
   "id": "c486f7da",
   "metadata": {},
   "outputs": [],
   "source": [
    "age_bins = [0, 20, 40, 60, 80, 100]\n",
    "age_lbl = [20, 40, 60, 80, 100]\n",
    "titanic_df['age_bin'] = pd.cut(titanic_df['new_age'], bins= age_bins, labels=age_lbl)\n",
    "titanic_df = pd.get_dummies(titanic_df, columns=[\"age_bin\"])"
   ]
  },
  {
   "cell_type": "code",
   "execution_count": 156,
   "id": "af8fb718",
   "metadata": {},
   "outputs": [
    {
     "data": {
      "text/plain": [
       "3    491\n",
       "1    216\n",
       "2    184\n",
       "Name: Pclass, dtype: int64"
      ]
     },
     "execution_count": 156,
     "metadata": {},
     "output_type": "execute_result"
    }
   ],
   "source": [
    "titanic_df = pd.get_dummies(titanic_df, columns=[\"Embarked\"])\n",
    "titanic_df[\"Pclass\"].value_counts()"
   ]
  },
  {
   "cell_type": "code",
   "execution_count": 157,
   "id": "6ba43e01",
   "metadata": {},
   "outputs": [],
   "source": [
    "titanic_df = pd.get_dummies(titanic_df, columns=[\"Pclass\"])"
   ]
  },
  {
   "cell_type": "code",
   "execution_count": 158,
   "id": "4077b836",
   "metadata": {},
   "outputs": [],
   "source": [
    "train, val, test = np.split(titanic_df.sample(frac=1), [int(0.8*len(titanic_df)), int(0.9*len(titanic_df))])\n",
    "feature_list = [\"sex_enc\", \"Parch\", \"SibSp\", \"Embarked_C\", \"Embarked_Q\", \"Embarked_S\"\n",
    "                , \"Pclass_1\", \"Pclass_2\", \"Pclass_3\", \"age_bin_20\", \"age_bin_40\", \"age_bin_60\", \"age_bin_80\", \"age_bin_100\"]"
   ]
  },
  {
   "cell_type": "code",
   "execution_count": 159,
   "id": "14a6a45e",
   "metadata": {},
   "outputs": [],
   "source": [
    "def df_to_dataset(dataframe, shuffle=True, batch_size=32):\n",
    "  dataframe = dataframe.copy()\n",
    "  labels = dataframe.pop('Survived')\n",
    "  ds = tf.data.Dataset.from_tensor_slices((dataframe[feature_list], labels))\n",
    "  if shuffle:\n",
    "    ds = ds.shuffle(buffer_size=len(dataframe))\n",
    "  ds = ds.batch(batch_size)\n",
    "  return ds"
   ]
  },
  {
   "cell_type": "code",
   "execution_count": 160,
   "id": "7c68e5e6",
   "metadata": {},
   "outputs": [],
   "source": [
    "batch_size = 10\n",
    "train_ds = df_to_dataset(train, shuffle=False, batch_size=batch_size)\n",
    "val_ds = df_to_dataset(val, shuffle=False, batch_size=batch_size)\n",
    "test_ds = df_to_dataset(test, shuffle=False, batch_size=batch_size)"
   ]
  },
  {
   "cell_type": "code",
   "execution_count": 161,
   "id": "9d90a972",
   "metadata": {},
   "outputs": [
    {
     "name": "stdout",
     "output_type": "stream",
     "text": [
      "Epoch 1/50\n",
      "72/72 [==============================] - 0s 2ms/step - loss: 0.7103 - accuracy: 0.4986 - val_loss: 0.6279 - val_accuracy: 0.6404\n",
      "Epoch 2/50\n",
      "72/72 [==============================] - 0s 973us/step - loss: 0.6461 - accuracy: 0.6236 - val_loss: 0.5817 - val_accuracy: 0.7079\n",
      "Epoch 3/50\n",
      "72/72 [==============================] - 0s 930us/step - loss: 0.6125 - accuracy: 0.6770 - val_loss: 0.5551 - val_accuracy: 0.7416\n",
      "Epoch 4/50\n",
      "72/72 [==============================] - 0s 1ms/step - loss: 0.5944 - accuracy: 0.7149 - val_loss: 0.5347 - val_accuracy: 0.7416\n",
      "Epoch 5/50\n",
      "72/72 [==============================] - 0s 1ms/step - loss: 0.5752 - accuracy: 0.7233 - val_loss: 0.5188 - val_accuracy: 0.7753\n",
      "Epoch 6/50\n",
      "72/72 [==============================] - 0s 1ms/step - loss: 0.5673 - accuracy: 0.7233 - val_loss: 0.5047 - val_accuracy: 0.7753\n",
      "Epoch 7/50\n",
      "72/72 [==============================] - 0s 997us/step - loss: 0.5678 - accuracy: 0.7444 - val_loss: 0.4922 - val_accuracy: 0.7978\n",
      "Epoch 8/50\n",
      "72/72 [==============================] - 0s 997us/step - loss: 0.5429 - accuracy: 0.7346 - val_loss: 0.4777 - val_accuracy: 0.8202\n",
      "Epoch 9/50\n",
      "72/72 [==============================] - 0s 987us/step - loss: 0.5348 - accuracy: 0.7626 - val_loss: 0.4646 - val_accuracy: 0.8202\n",
      "Epoch 10/50\n",
      "72/72 [==============================] - 0s 1ms/step - loss: 0.5375 - accuracy: 0.7444 - val_loss: 0.4533 - val_accuracy: 0.8315\n",
      "Epoch 11/50\n",
      "72/72 [==============================] - 0s 974us/step - loss: 0.4919 - accuracy: 0.7837 - val_loss: 0.4380 - val_accuracy: 0.8427\n",
      "Epoch 12/50\n",
      "72/72 [==============================] - 0s 1ms/step - loss: 0.5135 - accuracy: 0.7570 - val_loss: 0.4337 - val_accuracy: 0.8427\n",
      "Epoch 13/50\n",
      "72/72 [==============================] - 0s 979us/step - loss: 0.4950 - accuracy: 0.7739 - val_loss: 0.4297 - val_accuracy: 0.8315\n",
      "Epoch 14/50\n",
      "72/72 [==============================] - 0s 1ms/step - loss: 0.4633 - accuracy: 0.7907 - val_loss: 0.4224 - val_accuracy: 0.8315\n",
      "Epoch 15/50\n",
      "72/72 [==============================] - 0s 945us/step - loss: 0.4798 - accuracy: 0.7851 - val_loss: 0.4195 - val_accuracy: 0.8202\n",
      "Epoch 16/50\n",
      "72/72 [==============================] - 0s 996us/step - loss: 0.4873 - accuracy: 0.7865 - val_loss: 0.4176 - val_accuracy: 0.8315\n",
      "Epoch 17/50\n",
      "72/72 [==============================] - 0s 987us/step - loss: 0.4746 - accuracy: 0.7921 - val_loss: 0.4134 - val_accuracy: 0.8202\n",
      "Epoch 18/50\n",
      "72/72 [==============================] - 0s 983us/step - loss: 0.4827 - accuracy: 0.7907 - val_loss: 0.4139 - val_accuracy: 0.8202\n",
      "Epoch 19/50\n",
      "72/72 [==============================] - 0s 992us/step - loss: 0.4511 - accuracy: 0.7921 - val_loss: 0.4089 - val_accuracy: 0.8315\n",
      "Epoch 20/50\n",
      "72/72 [==============================] - 0s 967us/step - loss: 0.4640 - accuracy: 0.8076 - val_loss: 0.4074 - val_accuracy: 0.8315\n",
      "Epoch 21/50\n",
      "72/72 [==============================] - 0s 971us/step - loss: 0.4691 - accuracy: 0.7978 - val_loss: 0.4066 - val_accuracy: 0.8315\n",
      "Epoch 22/50\n",
      "72/72 [==============================] - 0s 1ms/step - loss: 0.4603 - accuracy: 0.7907 - val_loss: 0.4053 - val_accuracy: 0.8427\n",
      "Epoch 23/50\n",
      "72/72 [==============================] - 0s 972us/step - loss: 0.4607 - accuracy: 0.8132 - val_loss: 0.4033 - val_accuracy: 0.8315\n",
      "Epoch 24/50\n",
      "72/72 [==============================] - 0s 1ms/step - loss: 0.4644 - accuracy: 0.8062 - val_loss: 0.4032 - val_accuracy: 0.8315\n",
      "Epoch 25/50\n",
      "72/72 [==============================] - 0s 944us/step - loss: 0.4747 - accuracy: 0.8076 - val_loss: 0.4033 - val_accuracy: 0.8315\n",
      "Epoch 26/50\n",
      "72/72 [==============================] - 0s 958us/step - loss: 0.4642 - accuracy: 0.7879 - val_loss: 0.4035 - val_accuracy: 0.8539\n",
      "Epoch 27/50\n",
      "72/72 [==============================] - 0s 933us/step - loss: 0.4547 - accuracy: 0.8118 - val_loss: 0.4018 - val_accuracy: 0.8539\n",
      "Epoch 28/50\n",
      "72/72 [==============================] - 0s 971us/step - loss: 0.4472 - accuracy: 0.8006 - val_loss: 0.4018 - val_accuracy: 0.8315\n",
      "Epoch 29/50\n",
      "72/72 [==============================] - 0s 1ms/step - loss: 0.4640 - accuracy: 0.8062 - val_loss: 0.4029 - val_accuracy: 0.8315\n",
      "Epoch 30/50\n",
      "72/72 [==============================] - 0s 970us/step - loss: 0.4603 - accuracy: 0.7992 - val_loss: 0.4048 - val_accuracy: 0.8315\n",
      "Epoch 31/50\n",
      "72/72 [==============================] - 0s 1ms/step - loss: 0.4603 - accuracy: 0.7992 - val_loss: 0.4064 - val_accuracy: 0.8315\n",
      "Epoch 32/50\n",
      "72/72 [==============================] - 0s 979us/step - loss: 0.4643 - accuracy: 0.7907 - val_loss: 0.4064 - val_accuracy: 0.8202\n",
      "Epoch 33/50\n",
      "72/72 [==============================] - 0s 960us/step - loss: 0.4593 - accuracy: 0.8034 - val_loss: 0.4062 - val_accuracy: 0.8202\n",
      "Epoch 34/50\n",
      "72/72 [==============================] - 0s 982us/step - loss: 0.4417 - accuracy: 0.8006 - val_loss: 0.4040 - val_accuracy: 0.8202\n",
      "Epoch 35/50\n",
      "72/72 [==============================] - 0s 995us/step - loss: 0.4442 - accuracy: 0.8006 - val_loss: 0.4045 - val_accuracy: 0.8202\n",
      "Epoch 36/50\n",
      "72/72 [==============================] - 0s 959us/step - loss: 0.4662 - accuracy: 0.7921 - val_loss: 0.4073 - val_accuracy: 0.8202\n",
      "Epoch 37/50\n",
      "72/72 [==============================] - 0s 948us/step - loss: 0.4525 - accuracy: 0.7935 - val_loss: 0.4083 - val_accuracy: 0.8202\n",
      "Epoch 38/50\n",
      "72/72 [==============================] - 0s 941us/step - loss: 0.4501 - accuracy: 0.8048 - val_loss: 0.4076 - val_accuracy: 0.8202\n",
      "Epoch 39/50\n",
      "72/72 [==============================] - 0s 964us/step - loss: 0.4427 - accuracy: 0.8104 - val_loss: 0.4065 - val_accuracy: 0.8202\n",
      "Epoch 40/50\n",
      "72/72 [==============================] - 0s 1ms/step - loss: 0.4528 - accuracy: 0.7949 - val_loss: 0.4062 - val_accuracy: 0.8202\n",
      "Epoch 41/50\n",
      "72/72 [==============================] - 0s 994us/step - loss: 0.4437 - accuracy: 0.8118 - val_loss: 0.4059 - val_accuracy: 0.8315\n",
      "Epoch 42/50\n",
      "72/72 [==============================] - 0s 998us/step - loss: 0.4454 - accuracy: 0.8006 - val_loss: 0.4062 - val_accuracy: 0.8202\n",
      "Epoch 43/50\n",
      "72/72 [==============================] - 0s 1ms/step - loss: 0.4504 - accuracy: 0.8020 - val_loss: 0.4090 - val_accuracy: 0.8202\n",
      "Epoch 44/50\n",
      "72/72 [==============================] - 0s 949us/step - loss: 0.4432 - accuracy: 0.8062 - val_loss: 0.4092 - val_accuracy: 0.8202\n",
      "Epoch 45/50\n",
      "72/72 [==============================] - 0s 997us/step - loss: 0.4505 - accuracy: 0.8048 - val_loss: 0.4097 - val_accuracy: 0.8202\n",
      "Epoch 46/50\n",
      "72/72 [==============================] - 0s 981us/step - loss: 0.4467 - accuracy: 0.8090 - val_loss: 0.4090 - val_accuracy: 0.8202\n",
      "Epoch 47/50\n",
      "72/72 [==============================] - 0s 1ms/step - loss: 0.4476 - accuracy: 0.8034 - val_loss: 0.4114 - val_accuracy: 0.8202\n",
      "Epoch 48/50\n",
      "72/72 [==============================] - 0s 974us/step - loss: 0.4449 - accuracy: 0.8006 - val_loss: 0.4127 - val_accuracy: 0.8202\n",
      "Epoch 49/50\n",
      "72/72 [==============================] - 0s 1ms/step - loss: 0.4505 - accuracy: 0.8104 - val_loss: 0.4128 - val_accuracy: 0.8202\n",
      "Epoch 50/50\n",
      "72/72 [==============================] - 0s 961us/step - loss: 0.4435 - accuracy: 0.8174 - val_loss: 0.4136 - val_accuracy: 0.8202\n"
     ]
    },
    {
     "data": {
      "text/plain": [
       "<keras.callbacks.History at 0x1fe103551c8>"
      ]
     },
     "execution_count": 161,
     "metadata": {},
     "output_type": "execute_result"
    }
   ],
   "source": [
    "input_shape = (len(feature_list),)\n",
    "inputs = tf.keras.layers.Input(shape=input_shape)\n",
    "x = tf.keras.layers.Dense(32, activation=\"relu\")(inputs)\n",
    "x = tf.keras.layers.Dropout(0.5)(x)\n",
    "output = tf.keras.layers.Dense(1, activation=\"sigmoid\")(x)\n",
    "\n",
    "model = tf.keras.Model(inputs, output)\n",
    "model.compile(optimizer='adam', loss=tf.keras.losses.BinaryCrossentropy(), metrics=[\"accuracy\"])\n",
    "model.fit(train_ds, epochs=50, validation_data=val_ds)"
   ]
  },
  {
   "cell_type": "code",
   "execution_count": 162,
   "id": "41fef88c",
   "metadata": {},
   "outputs": [
    {
     "name": "stdout",
     "output_type": "stream",
     "text": [
      "9/9 [==============================] - 0s 877us/step - loss: 0.3691 - accuracy: 0.8333\n",
      "Loss:  0.36911922693252563\n",
      "Accuracy:  0.8333333134651184\n"
     ]
    }
   ],
   "source": [
    "loss, accuracy = model.evaluate(test_ds)\n",
    "\n",
    "print(\"Loss: \", loss)\n",
    "print(\"Accuracy: \", accuracy)"
   ]
  },
  {
   "cell_type": "code",
   "execution_count": 164,
   "id": "0a45f9c5",
   "metadata": {},
   "outputs": [],
   "source": [
    "test_data = pd.read_csv(\"./data/test.csv\")\n",
    "pred_in = test_data.copy()\n",
    "pred_in[\"sex_enc\"] = np.where(pred_in[\"Sex\"]==\"male\", 1, 0)\n",
    "pred_in[\"new_age\"] = pred_in[\"Age\"].fillna(mean_age)\n",
    "pred_in = pd.get_dummies(pred_in, columns=[\"Embarked\"])\n",
    "pred_in = pd.get_dummies(pred_in, columns=[\"Pclass\"])\n",
    "pred_in['age_bin'] = pd.cut(pred_in['new_age'], bins= age_bins, labels=age_lbl)\n",
    "pred_in = pd.get_dummies(pred_in, columns=[\"age_bin\"])"
   ]
  },
  {
   "cell_type": "code",
   "execution_count": 165,
   "id": "962ba9ab",
   "metadata": {},
   "outputs": [],
   "source": [
    "pred_ds = tf.data.Dataset.from_tensor_slices(pred_in[feature_list])\n",
    "pred_ds = pred_ds.batch(batch_size)"
   ]
  },
  {
   "cell_type": "code",
   "execution_count": 166,
   "id": "4397a342",
   "metadata": {},
   "outputs": [],
   "source": [
    "predictions = model.predict(pred_ds)\n",
    "pred_pd = pd.DataFrame(predictions, columns=[\"pred_survived\"])"
   ]
  },
  {
   "cell_type": "code",
   "execution_count": 171,
   "id": "4a235bd7",
   "metadata": {},
   "outputs": [],
   "source": [
    "pred_pd[\"Survived\"] = np.where(pred_pd[\"pred_survived\"]>0.5, 1, 0)"
   ]
  },
  {
   "cell_type": "code",
   "execution_count": 172,
   "id": "fbd736ad",
   "metadata": {},
   "outputs": [],
   "source": [
    "out = pd.merge(pred_in, pred_pd, left_index=True, right_index=True)"
   ]
  },
  {
   "cell_type": "code",
   "execution_count": 173,
   "id": "1fe2c83e",
   "metadata": {},
   "outputs": [],
   "source": [
    "out_pd = out[[\"PassengerId\",\"Survived\"]]"
   ]
  },
  {
   "cell_type": "code",
   "execution_count": 174,
   "id": "ef65e402",
   "metadata": {},
   "outputs": [],
   "source": [
    "os.makedirs('./data/', exist_ok=True)  \n",
    "out_pd.to_csv('./data/out.csv',index=False)  "
   ]
  },
  {
   "cell_type": "code",
   "execution_count": null,
   "id": "cc86ae9b",
   "metadata": {},
   "outputs": [],
   "source": []
  }
 ],
 "metadata": {
  "kernelspec": {
   "display_name": "Python 3 (ipykernel)",
   "language": "python",
   "name": "python3"
  },
  "language_info": {
   "codemirror_mode": {
    "name": "ipython",
    "version": 3
   },
   "file_extension": ".py",
   "mimetype": "text/x-python",
   "name": "python",
   "nbconvert_exporter": "python",
   "pygments_lexer": "ipython3",
   "version": "3.7.11"
  }
 },
 "nbformat": 4,
 "nbformat_minor": 5
}
