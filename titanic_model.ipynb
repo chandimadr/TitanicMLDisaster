{
 "cells": [
  {
   "cell_type": "code",
   "execution_count": 108,
   "id": "73857211",
   "metadata": {},
   "outputs": [],
   "source": [
    "import pandas as pd\n",
    "import tensorflow as tf\n",
    "import numpy as np\n",
    "import os"
   ]
  },
  {
   "cell_type": "code",
   "execution_count": 109,
   "id": "cffda45d",
   "metadata": {},
   "outputs": [],
   "source": [
    "titanic_df = pd.read_csv(\"./data/train.csv\")"
   ]
  },
  {
   "cell_type": "code",
   "execution_count": 110,
   "id": "d26cc28c",
   "metadata": {},
   "outputs": [],
   "source": [
    "titanic_df[\"sex_enc\"] = np.where(titanic_df[\"Sex\"]==\"male\", 1, 0)"
   ]
  },
  {
   "cell_type": "code",
   "execution_count": 111,
   "id": "16d1ef62",
   "metadata": {},
   "outputs": [],
   "source": [
    "mean_age = titanic_df[\"Age\"].mean()\n",
    "titanic_df[\"new_age\"] = titanic_df[\"Age\"].fillna(mean_age)"
   ]
  },
  {
   "cell_type": "code",
   "execution_count": 112,
   "id": "7a3b7bce",
   "metadata": {},
   "outputs": [],
   "source": [
    "age_bins = [0, 10, 20, 40, 60, 80, 100]\n",
    "age_lbl = [10, 20, 40, 60, 80, 100]\n",
    "titanic_df['age_bin'] = pd.cut(titanic_df['new_age'], bins= age_bins, labels=age_lbl)\n",
    "titanic_df = pd.get_dummies(titanic_df, columns=[\"age_bin\"])"
   ]
  },
  {
   "cell_type": "code",
   "execution_count": 113,
   "id": "09c27577",
   "metadata": {},
   "outputs": [],
   "source": [
    "fare_bins = [0, 50, 100, 200, 600]\n",
    "fare_lbl = [50, 100, 200, 600]\n",
    "titanic_df['fare_bin'] = pd.cut(titanic_df['Fare'], bins= fare_bins, labels=fare_lbl)\n",
    "titanic_df = pd.get_dummies(titanic_df, columns=[\"fare_bin\"])"
   ]
  },
  {
   "cell_type": "code",
   "execution_count": 114,
   "id": "62ba576e",
   "metadata": {},
   "outputs": [],
   "source": [
    "titanic_df[\"age_norm\"] = (titanic_df[\"new_age\"] - titanic_df[\"new_age\"].mean())/titanic_df[\"new_age\"].std()\n",
    "titanic_df[\"sibsp_norm\"]=(titanic_df[\"SibSp\"] - titanic_df[\"SibSp\"].min())/(titanic_df[\"SibSp\"].max() - titanic_df[\"SibSp\"].min())\n",
    "titanic_df[\"parch_norm\"]=(titanic_df[\"Parch\"] - titanic_df[\"Parch\"].min())/(titanic_df[\"Parch\"].max() - titanic_df[\"Parch\"].min())\n",
    "titanic_df[\"fare_norm\"]=(titanic_df[\"Fare\"] - titanic_df[\"Fare\"].mean())/titanic_df[\"Fare\"].std()"
   ]
  },
  {
   "cell_type": "code",
   "execution_count": 115,
   "id": "de371ed3",
   "metadata": {},
   "outputs": [],
   "source": [
    "titanic_df[\"mr_name\"] = np.where(titanic_df[\"Name\"].str.contains(\"Mr\\\\.\"), 1, 0)\n",
    "titanic_df[\"mrs_name\"] = np.where(titanic_df[\"Name\"].str.contains(\"Mrs\\\\.\"), 1, 0)\n",
    "titanic_df[\"miss_name\"] = np.where(titanic_df[\"Name\"].str.contains(\"Miss\\\\.\"), 1, 0)\n",
    "titanic_df[\"master_name\"] = np.where(titanic_df[\"Name\"].str.contains(\"Master\\\\.\"), 1, 0)"
   ]
  },
  {
   "cell_type": "code",
   "execution_count": 116,
   "id": "d9efcbe4",
   "metadata": {},
   "outputs": [],
   "source": [
    "titanic_df = pd.get_dummies(titanic_df, columns=[\"Embarked\"])\n",
    "# titanic_df[\"Pclass\"].value_counts()"
   ]
  },
  {
   "cell_type": "code",
   "execution_count": 117,
   "id": "325180fc",
   "metadata": {},
   "outputs": [],
   "source": [
    "titanic_df = pd.get_dummies(titanic_df, columns=[\"Pclass\"])"
   ]
  },
  {
   "cell_type": "code",
   "execution_count": 146,
   "id": "4077b836",
   "metadata": {},
   "outputs": [
    {
     "name": "stdout",
     "output_type": "stream",
     "text": [
      "# training samples: (712, 36)\n",
      "# validation samples: (89, 36)\n",
      "# testing samples: (90, 36)\n"
     ]
    }
   ],
   "source": [
    "train, val, test = np.split(titanic_df.sample(frac=1), [int(0.8*len(titanic_df)), int(0.9*len(titanic_df))])\n",
    "print(\"# training samples: \" + str(train.shape))\n",
    "print(\"# validation samples: \" + str(val.shape))\n",
    "print(\"# testing samples: \" + str(test.shape))\n",
    "# feature_list = [\"sex_enc\", \"Parch\", \"SibSp\", \"Embarked_C\", \"Embarked_Q\", \"Embarked_S\"\n",
    "#                 , \"Pclass_1\", \"Pclass_2\", \"Pclass_3\", \"age_bin_20\", \"age_bin_40\", \"age_bin_60\", \"age_bin_80\", \"age_bin_100\"]\n",
    "# feature_list = [\"sex_enc\", \"parch_norm\", \"sibsp_norm\", \"Embarked_C\", \"Embarked_Q\", \"Embarked_S\"\n",
    "#                 , \"Pclass_1\", \"Pclass_2\", \"Pclass_3\", \"fare_bin_50\", \"fare_bin_100\"\n",
    "#                 , \"fare_bin_200\", \"fare_bin_600\", \"mr_name\", \"mrs_name\", \"miss_name\", \"master_name\"\n",
    "#                 , \"age_bin_10\", \"age_bin_20\", \"age_bin_40\", \"age_bin_60\", \"age_bin_80\", \"age_bin_100\"]\n",
    "feature_list = [\"sex_enc\", \"Embarked_C\", \"Embarked_Q\", \"Embarked_S\"\n",
    "                , \"Pclass_1\", \"Pclass_2\", \"Pclass_3\", \"mr_name\", \"mrs_name\", \"miss_name\", \"master_name\"\n",
    "                , \"age_bin_10\", \"age_bin_20\", \"age_bin_40\", \"age_bin_60\", \"age_bin_80\", \"age_bin_100\"]"
   ]
  },
  {
   "cell_type": "code",
   "execution_count": 147,
   "id": "14a6a45e",
   "metadata": {},
   "outputs": [],
   "source": [
    "def df_to_dataset(dataframe, shuffle=True, batch_size=32):\n",
    "  dataframe = dataframe.copy()\n",
    "  labels = dataframe.pop('Survived')\n",
    "  ds = tf.data.Dataset.from_tensor_slices((dataframe[feature_list], labels))\n",
    "  if shuffle:\n",
    "    ds = ds.shuffle(buffer_size=len(dataframe))\n",
    "  ds = ds.batch(batch_size)\n",
    "  return ds"
   ]
  },
  {
   "cell_type": "code",
   "execution_count": 148,
   "id": "7c68e5e6",
   "metadata": {},
   "outputs": [],
   "source": [
    "batch_size = 30\n",
    "train_ds = df_to_dataset(train, shuffle=False, batch_size=batch_size)\n",
    "val_ds = df_to_dataset(val, shuffle=False, batch_size=batch_size)\n",
    "test_ds = df_to_dataset(test, shuffle=False, batch_size=batch_size)"
   ]
  },
  {
   "cell_type": "code",
   "execution_count": 149,
   "id": "9d90a972",
   "metadata": {},
   "outputs": [
    {
     "name": "stdout",
     "output_type": "stream",
     "text": [
      "Epoch 1/50\n",
      "24/24 [==============================] - 0s 4ms/step - loss: 0.6610 - accuracy: 0.6236 - val_loss: 0.6184 - val_accuracy: 0.7303\n",
      "Epoch 2/50\n",
      "24/24 [==============================] - 0s 1ms/step - loss: 0.6078 - accuracy: 0.6994 - val_loss: 0.5719 - val_accuracy: 0.7416\n",
      "Epoch 3/50\n",
      "24/24 [==============================] - 0s 1ms/step - loss: 0.5666 - accuracy: 0.7360 - val_loss: 0.5349 - val_accuracy: 0.7528\n",
      "Epoch 4/50\n",
      "24/24 [==============================] - 0s 1ms/step - loss: 0.5296 - accuracy: 0.7542 - val_loss: 0.5040 - val_accuracy: 0.7978\n",
      "Epoch 5/50\n",
      "24/24 [==============================] - 0s 1ms/step - loss: 0.5146 - accuracy: 0.7640 - val_loss: 0.4816 - val_accuracy: 0.7865\n",
      "Epoch 6/50\n",
      "24/24 [==============================] - 0s 1ms/step - loss: 0.4992 - accuracy: 0.7626 - val_loss: 0.4663 - val_accuracy: 0.7978\n",
      "Epoch 7/50\n",
      "24/24 [==============================] - 0s 1ms/step - loss: 0.4775 - accuracy: 0.7851 - val_loss: 0.4544 - val_accuracy: 0.7978\n",
      "Epoch 8/50\n",
      "24/24 [==============================] - 0s 1ms/step - loss: 0.4793 - accuracy: 0.7781 - val_loss: 0.4487 - val_accuracy: 0.8090\n",
      "Epoch 9/50\n",
      "24/24 [==============================] - 0s 1ms/step - loss: 0.4615 - accuracy: 0.7963 - val_loss: 0.4441 - val_accuracy: 0.8090\n",
      "Epoch 10/50\n",
      "24/24 [==============================] - 0s 1ms/step - loss: 0.4595 - accuracy: 0.7879 - val_loss: 0.4407 - val_accuracy: 0.8202\n",
      "Epoch 11/50\n",
      "24/24 [==============================] - 0s 1ms/step - loss: 0.4634 - accuracy: 0.7865 - val_loss: 0.4398 - val_accuracy: 0.8202\n",
      "Epoch 12/50\n",
      "24/24 [==============================] - 0s 1ms/step - loss: 0.4626 - accuracy: 0.7949 - val_loss: 0.4383 - val_accuracy: 0.8202\n",
      "Epoch 13/50\n",
      "24/24 [==============================] - 0s 1ms/step - loss: 0.4509 - accuracy: 0.7978 - val_loss: 0.4375 - val_accuracy: 0.8202\n",
      "Epoch 14/50\n",
      "24/24 [==============================] - 0s 1ms/step - loss: 0.4467 - accuracy: 0.8048 - val_loss: 0.4361 - val_accuracy: 0.8202\n",
      "Epoch 15/50\n",
      "24/24 [==============================] - 0s 1ms/step - loss: 0.4454 - accuracy: 0.8104 - val_loss: 0.4357 - val_accuracy: 0.8202\n",
      "Epoch 16/50\n",
      "24/24 [==============================] - 0s 1ms/step - loss: 0.4471 - accuracy: 0.7949 - val_loss: 0.4355 - val_accuracy: 0.8315\n",
      "Epoch 17/50\n",
      "24/24 [==============================] - 0s 1ms/step - loss: 0.4410 - accuracy: 0.8006 - val_loss: 0.4354 - val_accuracy: 0.8315\n",
      "Epoch 18/50\n",
      "24/24 [==============================] - 0s 1ms/step - loss: 0.4342 - accuracy: 0.8202 - val_loss: 0.4354 - val_accuracy: 0.8427\n",
      "Epoch 19/50\n",
      "24/24 [==============================] - 0s 1ms/step - loss: 0.4347 - accuracy: 0.8118 - val_loss: 0.4366 - val_accuracy: 0.8202\n",
      "Epoch 20/50\n",
      "24/24 [==============================] - 0s 1ms/step - loss: 0.4320 - accuracy: 0.7978 - val_loss: 0.4362 - val_accuracy: 0.8315\n",
      "Epoch 21/50\n",
      "24/24 [==============================] - 0s 1ms/step - loss: 0.4417 - accuracy: 0.8006 - val_loss: 0.4365 - val_accuracy: 0.8315\n",
      "Epoch 22/50\n",
      "24/24 [==============================] - 0s 1ms/step - loss: 0.4294 - accuracy: 0.8090 - val_loss: 0.4373 - val_accuracy: 0.8427\n",
      "Epoch 23/50\n",
      "24/24 [==============================] - 0s 1ms/step - loss: 0.4244 - accuracy: 0.8104 - val_loss: 0.4375 - val_accuracy: 0.8315\n",
      "Epoch 24/50\n",
      "24/24 [==============================] - 0s 1ms/step - loss: 0.4296 - accuracy: 0.8174 - val_loss: 0.4384 - val_accuracy: 0.8427\n",
      "Epoch 25/50\n",
      "24/24 [==============================] - 0s 1ms/step - loss: 0.4341 - accuracy: 0.8118 - val_loss: 0.4390 - val_accuracy: 0.8427\n",
      "Epoch 26/50\n",
      "24/24 [==============================] - 0s 1ms/step - loss: 0.4283 - accuracy: 0.8104 - val_loss: 0.4385 - val_accuracy: 0.8315\n",
      "Epoch 27/50\n",
      "24/24 [==============================] - 0s 1ms/step - loss: 0.4207 - accuracy: 0.8174 - val_loss: 0.4393 - val_accuracy: 0.8315\n",
      "Epoch 28/50\n",
      "24/24 [==============================] - 0s 1ms/step - loss: 0.4203 - accuracy: 0.8104 - val_loss: 0.4406 - val_accuracy: 0.8315\n",
      "Epoch 29/50\n",
      "24/24 [==============================] - 0s 1ms/step - loss: 0.4283 - accuracy: 0.7992 - val_loss: 0.4411 - val_accuracy: 0.8315\n",
      "Epoch 30/50\n",
      "24/24 [==============================] - 0s 1ms/step - loss: 0.4208 - accuracy: 0.8174 - val_loss: 0.4412 - val_accuracy: 0.8315\n",
      "Epoch 31/50\n",
      "24/24 [==============================] - 0s 1ms/step - loss: 0.4215 - accuracy: 0.8160 - val_loss: 0.4414 - val_accuracy: 0.8315\n",
      "Epoch 32/50\n",
      "24/24 [==============================] - 0s 1ms/step - loss: 0.4185 - accuracy: 0.8146 - val_loss: 0.4416 - val_accuracy: 0.8315\n",
      "Epoch 33/50\n",
      "24/24 [==============================] - 0s 1ms/step - loss: 0.4288 - accuracy: 0.8076 - val_loss: 0.4422 - val_accuracy: 0.8315\n",
      "Epoch 34/50\n",
      "24/24 [==============================] - 0s 1ms/step - loss: 0.4191 - accuracy: 0.8244 - val_loss: 0.4433 - val_accuracy: 0.8315\n",
      "Epoch 35/50\n",
      "24/24 [==============================] - 0s 1ms/step - loss: 0.4125 - accuracy: 0.8329 - val_loss: 0.4438 - val_accuracy: 0.8315\n",
      "Epoch 36/50\n",
      "24/24 [==============================] - 0s 1ms/step - loss: 0.4173 - accuracy: 0.8188 - val_loss: 0.4442 - val_accuracy: 0.8315\n",
      "Epoch 37/50\n",
      "24/24 [==============================] - 0s 1ms/step - loss: 0.4107 - accuracy: 0.8090 - val_loss: 0.4438 - val_accuracy: 0.8315\n",
      "Epoch 38/50\n",
      "24/24 [==============================] - 0s 1ms/step - loss: 0.4087 - accuracy: 0.8230 - val_loss: 0.4445 - val_accuracy: 0.8315\n",
      "Epoch 39/50\n",
      "24/24 [==============================] - 0s 1ms/step - loss: 0.4156 - accuracy: 0.8160 - val_loss: 0.4452 - val_accuracy: 0.8315\n",
      "Epoch 40/50\n",
      "24/24 [==============================] - 0s 1ms/step - loss: 0.4086 - accuracy: 0.8202 - val_loss: 0.4454 - val_accuracy: 0.8315\n",
      "Epoch 41/50\n",
      "24/24 [==============================] - 0s 1ms/step - loss: 0.4140 - accuracy: 0.8230 - val_loss: 0.4457 - val_accuracy: 0.8315\n",
      "Epoch 42/50\n",
      "24/24 [==============================] - 0s 1ms/step - loss: 0.4151 - accuracy: 0.8216 - val_loss: 0.4465 - val_accuracy: 0.8315\n",
      "Epoch 43/50\n",
      "24/24 [==============================] - 0s 1ms/step - loss: 0.4182 - accuracy: 0.8174 - val_loss: 0.4471 - val_accuracy: 0.8315\n",
      "Epoch 44/50\n",
      "24/24 [==============================] - 0s 1ms/step - loss: 0.4124 - accuracy: 0.8090 - val_loss: 0.4472 - val_accuracy: 0.8315\n",
      "Epoch 45/50\n",
      "24/24 [==============================] - 0s 1ms/step - loss: 0.4093 - accuracy: 0.8202 - val_loss: 0.4477 - val_accuracy: 0.8315\n",
      "Epoch 46/50\n",
      "24/24 [==============================] - 0s 1ms/step - loss: 0.4107 - accuracy: 0.8272 - val_loss: 0.4482 - val_accuracy: 0.8315\n",
      "Epoch 47/50\n",
      "24/24 [==============================] - 0s 1ms/step - loss: 0.4126 - accuracy: 0.8230 - val_loss: 0.4487 - val_accuracy: 0.8315\n",
      "Epoch 48/50\n",
      "24/24 [==============================] - 0s 1ms/step - loss: 0.4128 - accuracy: 0.8118 - val_loss: 0.4488 - val_accuracy: 0.8315\n",
      "Epoch 49/50\n",
      "24/24 [==============================] - 0s 1ms/step - loss: 0.4101 - accuracy: 0.8230 - val_loss: 0.4490 - val_accuracy: 0.8315\n",
      "Epoch 50/50\n",
      "24/24 [==============================] - 0s 1ms/step - loss: 0.4236 - accuracy: 0.8048 - val_loss: 0.4492 - val_accuracy: 0.8315\n"
     ]
    },
    {
     "data": {
      "text/plain": [
       "<keras.callbacks.History at 0x1fe8e67d048>"
      ]
     },
     "execution_count": 149,
     "metadata": {},
     "output_type": "execute_result"
    }
   ],
   "source": [
    "input_shape = (len(feature_list),)\n",
    "inputs = tf.keras.layers.Input(shape=input_shape)\n",
    "x = tf.keras.layers.Dense(32, activation=\"relu\")(inputs)\n",
    "x = tf.keras.layers.Dropout(0.25)(x)\n",
    "output = tf.keras.layers.Dense(1, activation=\"sigmoid\")(x)\n",
    "\n",
    "model = tf.keras.Model(inputs, output)\n",
    "model.compile(optimizer='adam', loss=tf.keras.losses.BinaryCrossentropy(), metrics=[\"accuracy\"])\n",
    "model.fit(train_ds, epochs=50, validation_data=val_ds)"
   ]
  },
  {
   "cell_type": "code",
   "execution_count": 150,
   "id": "41fef88c",
   "metadata": {},
   "outputs": [
    {
     "name": "stdout",
     "output_type": "stream",
     "text": [
      "3/3 [==============================] - 0s 998us/step - loss: 0.3563 - accuracy: 0.9000\n",
      "Loss:  0.35634323954582214\n",
      "Accuracy:  0.8999999761581421\n"
     ]
    }
   ],
   "source": [
    "loss, accuracy = model.evaluate(test_ds)\n",
    "\n",
    "print(\"Loss: \", loss)\n",
    "print(\"Accuracy: \", accuracy)"
   ]
  },
  {
   "cell_type": "code",
   "execution_count": 151,
   "id": "0a45f9c5",
   "metadata": {},
   "outputs": [],
   "source": [
    "test_data = pd.read_csv(\"./data/test.csv\")\n",
    "pred_in = test_data.copy()\n",
    "pred_in[\"sex_enc\"] = np.where(pred_in[\"Sex\"]==\"male\", 1, 0)\n",
    "pred_in[\"new_age\"] = pred_in[\"Age\"].fillna(mean_age)\n",
    "pred_in = pd.get_dummies(pred_in, columns=[\"Embarked\"])\n",
    "pred_in = pd.get_dummies(pred_in, columns=[\"Pclass\"])\n",
    "pred_in['age_bin'] = pd.cut(pred_in['new_age'], bins= age_bins, labels=age_lbl)\n",
    "pred_in = pd.get_dummies(pred_in, columns=[\"age_bin\"])\n",
    "pred_in[\"age_norm\"] = (pred_in[\"new_age\"] - titanic_df[\"new_age\"].mean())/titanic_df[\"new_age\"].std()\n",
    "pred_in[\"sibsp_norm\"]=(pred_in[\"SibSp\"] - titanic_df[\"SibSp\"].min())/(titanic_df[\"SibSp\"].max() - titanic_df[\"SibSp\"].min())\n",
    "pred_in[\"parch_norm\"]=(pred_in[\"Parch\"] - titanic_df[\"Parch\"].min())/(titanic_df[\"Parch\"].max() - titanic_df[\"Parch\"].min())\n",
    "pred_in[\"fare_norm\"]=(pred_in[\"Fare\"] - titanic_df[\"Fare\"].mean())/titanic_df[\"Fare\"].std()\n",
    "pred_in['fare_bin'] = pd.cut(pred_in['Fare'], bins= fare_bins, labels=fare_lbl)\n",
    "pred_in = pd.get_dummies(pred_in, columns=[\"fare_bin\"])\n",
    "pred_in[\"mr_name\"] = np.where(pred_in[\"Name\"].str.contains(\"Mr\\\\.\"), 1, 0)\n",
    "pred_in[\"mrs_name\"] = np.where(pred_in[\"Name\"].str.contains(\"Mrs\\\\.\"), 1, 0)\n",
    "pred_in[\"miss_name\"] = np.where(pred_in[\"Name\"].str.contains(\"Miss\\\\.\"), 1, 0)\n",
    "pred_in[\"master_name\"] = np.where(pred_in[\"Name\"].str.contains(\"Master\\\\.\"), 1, 0)"
   ]
  },
  {
   "cell_type": "code",
   "execution_count": 152,
   "id": "962ba9ab",
   "metadata": {},
   "outputs": [],
   "source": [
    "pred_ds = tf.data.Dataset.from_tensor_slices(pred_in[feature_list])\n",
    "pred_ds = pred_ds.batch(batch_size)"
   ]
  },
  {
   "cell_type": "code",
   "execution_count": 153,
   "id": "4397a342",
   "metadata": {},
   "outputs": [],
   "source": [
    "predictions = model.predict(pred_ds)\n",
    "pred_pd = pd.DataFrame(predictions, columns=[\"pred_survived\"])"
   ]
  },
  {
   "cell_type": "code",
   "execution_count": 154,
   "id": "4a235bd7",
   "metadata": {},
   "outputs": [],
   "source": [
    "pred_pd[\"Survived\"] = np.where(pred_pd[\"pred_survived\"]>0.6, 1, 0)"
   ]
  },
  {
   "cell_type": "code",
   "execution_count": 155,
   "id": "fbd736ad",
   "metadata": {},
   "outputs": [],
   "source": [
    "out = pd.merge(pred_in, pred_pd, left_index=True, right_index=True)"
   ]
  },
  {
   "cell_type": "code",
   "execution_count": 156,
   "id": "1fe2c83e",
   "metadata": {},
   "outputs": [],
   "source": [
    "out_pd = out[[\"PassengerId\",\"Survived\"]]"
   ]
  },
  {
   "cell_type": "code",
   "execution_count": 157,
   "id": "ef65e402",
   "metadata": {},
   "outputs": [],
   "source": [
    "os.makedirs('./data/', exist_ok=True)\n",
    "out_pd.to_csv('./data/out_1.csv',index=False)"
   ]
  },
  {
   "cell_type": "code",
   "execution_count": null,
   "id": "23a8b7df",
   "metadata": {},
   "outputs": [],
   "source": []
  }
 ],
 "metadata": {
  "kernelspec": {
   "display_name": "Python 3 (ipykernel)",
   "language": "python",
   "name": "python3"
  },
  "language_info": {
   "codemirror_mode": {
    "name": "ipython",
    "version": 3
   },
   "file_extension": ".py",
   "mimetype": "text/x-python",
   "name": "python",
   "nbconvert_exporter": "python",
   "pygments_lexer": "ipython3",
   "version": "3.7.11"
  }
 },
 "nbformat": 4,
 "nbformat_minor": 5
}
