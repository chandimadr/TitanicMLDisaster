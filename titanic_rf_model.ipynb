{
 "cells": [
  {
   "cell_type": "code",
   "execution_count": null,
   "id": "28ff3930",
   "metadata": {},
   "outputs": [],
   "source": [
    "import pandas as pd\n",
    "import numpy as np\n",
    "import os\n",
    "from sklearn.model_selection import train_test_split\n",
    "from sklearn.ensemble import RandomForestClassifier\n",
    "from sklearn import metrics"
   ]
  },
  {
   "cell_type": "code",
   "execution_count": null,
   "id": "f7b0e4f1",
   "metadata": {},
   "outputs": [],
   "source": [
    "titanic_df = pd.read_csv(\"./data/train.csv\")\n",
    "titanic_df.describe()"
   ]
  },
  {
   "cell_type": "code",
   "execution_count": null,
   "id": "5ff4d625",
   "metadata": {},
   "outputs": [],
   "source": [
    "titanic_df[\"sex_enc\"] = np.where(titanic_df[\"Sex\"]==\"male\", 1, 0)\n",
    "mean_age = titanic_df[\"Age\"].mean()\n",
    "titanic_df[\"new_age\"] = titanic_df[\"Age\"].fillna(mean_age)\n",
    "x = titanic_df[['Pclass', 'sex_enc', 'new_age', 'SibSp', 'Parch']]  # Features\n",
    "y = titanic_df['Survived']  # Labels"
   ]
  },
  {
   "cell_type": "code",
   "execution_count": null,
   "id": "3dfd0c67",
   "metadata": {},
   "outputs": [],
   "source": [
    "# Split dataset into training set and test set\n",
    "x_train, x_test, y_train, y_test = train_test_split(x, y, test_size=0.3) # 70% training and 30% test"
   ]
  },
  {
   "cell_type": "code",
   "execution_count": null,
   "id": "a4f1abfe",
   "metadata": {},
   "outputs": [],
   "source": [
    "#Create a Gaussian Classifier\n",
    "clf=RandomForestClassifier(n_estimators=100)\n",
    "\n",
    "#Train the model using the training sets y_pred=clf.predict(X_test)\n",
    "clf.fit(x_train,y_train)"
   ]
  },
  {
   "cell_type": "code",
   "execution_count": null,
   "id": "d21c89a7",
   "metadata": {},
   "outputs": [],
   "source": [
    "y_pred=clf.predict(x_test)"
   ]
  },
  {
   "cell_type": "code",
   "execution_count": null,
   "id": "e7939616",
   "metadata": {},
   "outputs": [],
   "source": [
    "# Model Accuracy, how often is the classifier correct?\n",
    "print(\"Accuracy:\",metrics.accuracy_score(y_test, y_pred))"
   ]
  },
  {
   "cell_type": "code",
   "execution_count": null,
   "id": "07e06226",
   "metadata": {},
   "outputs": [],
   "source": [
    "test_data = pd.read_csv(\"./data/test.csv\")\n",
    "pred_in = test_data.copy()\n",
    "pred_in[\"sex_enc\"] = np.where(pred_in[\"Sex\"]==\"male\", 1, 0)\n",
    "pred_in[\"new_age\"] = pred_in[\"Age\"].fillna(mean_age)\n",
    "pred_data = pred_in[['Pclass', 'sex_enc', 'new_age', 'SibSp', 'Parch']]"
   ]
  },
  {
   "cell_type": "code",
   "execution_count": null,
   "id": "58535a94",
   "metadata": {},
   "outputs": [],
   "source": [
    "pred_out = clf.predict(pred_data)"
   ]
  },
  {
   "cell_type": "code",
   "execution_count": null,
   "id": "5fa66336",
   "metadata": {},
   "outputs": [],
   "source": [
    "pred_out_pd = pd.DataFrame(pred_out, columns = ['Survived'])"
   ]
  },
  {
   "cell_type": "code",
   "execution_count": null,
   "id": "00fc3f7d",
   "metadata": {},
   "outputs": [],
   "source": [
    "out_pd = pd.concat([pred_in, pred_out_pd], axis=1)[['PassengerId', 'Survived']]"
   ]
  },
  {
   "cell_type": "code",
   "execution_count": null,
   "id": "50defbe0",
   "metadata": {},
   "outputs": [],
   "source": [
    "os.makedirs('./data/', exist_ok=True)\n",
    "out_pd.to_csv('./data/out_2.csv',index=False)"
   ]
  },
  {
   "cell_type": "code",
   "execution_count": null,
   "id": "572cff1b",
   "metadata": {},
   "outputs": [],
   "source": []
  }
 ],
 "metadata": {
  "kernelspec": {
   "display_name": "Python 3 (ipykernel)",
   "language": "python",
   "name": "python3"
  },
  "language_info": {
   "codemirror_mode": {
    "name": "ipython",
    "version": 3
   },
   "file_extension": ".py",
   "mimetype": "text/x-python",
   "name": "python",
   "nbconvert_exporter": "python",
   "pygments_lexer": "ipython3",
   "version": "3.7.11"
  }
 },
 "nbformat": 4,
 "nbformat_minor": 5
}
